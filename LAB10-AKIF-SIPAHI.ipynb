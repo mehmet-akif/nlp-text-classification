{
 "cells": [
  {
   "cell_type": "code",
   "execution_count": null,
   "id": "c41cdc9c-c796-4c38-b800-ba57f288e256",
   "metadata": {},
   "outputs": [
    {
     "name": "stderr",
     "output_type": "stream",
     "text": [
      "[nltk_data] Downloading package punkt to\n",
      "[nltk_data]     C:\\Users\\makif\\AppData\\Roaming\\nltk_data...\n",
      "[nltk_data]   Package punkt is already up-to-date!\n",
      "[nltk_data] Downloading package wordnet to\n",
      "[nltk_data]     C:\\Users\\makif\\AppData\\Roaming\\nltk_data...\n",
      "[nltk_data]   Package wordnet is already up-to-date!\n",
      "[nltk_data] Downloading package omw-1.4 to\n",
      "[nltk_data]     C:\\Users\\makif\\AppData\\Roaming\\nltk_data...\n",
      "[nltk_data]   Package omw-1.4 is already up-to-date!\n"
     ]
    },
    {
     "name": "stdout",
     "output_type": "stream",
     "text": [
      "\n",
      "Evaluation Metrics:\n",
      "Accuracy: 0.7650\n",
      "Precision: 0.7769\n",
      "Recall: 0.8246\n",
      "F1 Score: 0.8000\n"
     ]
    }
   ],
   "source": [
    "import pandas as pd\n",
    "import numpy as np\n",
    "from nltk.tokenize import word_tokenize\n",
    "from nltk.stem import PorterStemmer\n",
    "from nltk.stem.wordnet import WordNetLemmatizer\n",
    "from sklearn.feature_extraction.text import TfidfVectorizer\n",
    "from sklearn.ensemble import RandomForestClassifier\n",
    "from sklearn.model_selection import train_test_split\n",
    "from sklearn.metrics import accuracy_score, precision_score, recall_score, f1_score\n",
    "import nltk\n",
    "\n",
    "# Download required NLTK data\n",
    "nltk.download('punkt')\n",
    "nltk.download('wordnet')\n",
    "nltk.download('omw-1.4')\n",
    "\n",
    "try:\n",
    "    df = pd.read_csv('musical1.tsv', sep='\\t')\n",
    "except:\n",
    "    df = pd.read_csv('musical1.tsv', sep='\\t', header=None)\n",
    "\n",
    "if len(df.columns) == 2:\n",
    "    df.columns = ['review', 'sentiment']\n",
    "elif 'Score' in df.columns:\n",
    "    df = df.rename(columns={'Score': 'sentiment'})\n",
    "else:\n",
    "    df = df.rename(columns={df.columns[0]: 'review', df.columns[1]: 'sentiment'})\n",
    "\n",
    "df = df.dropna()\n",
    "df = df[df['review'].notna() & df['sentiment'].notna()]\n",
    "\n",
    "stemmer = PorterStemmer()\n",
    "lemmatizer = WordNetLemmatizer()\n",
    "\n",
    "def preprocess_text(text):\n",
    "    try:\n",
    "        # Tokenization\n",
    "        tokens = word_tokenize(str(text).lower())\n",
    "        \n",
    "        # Stemming\n",
    "        stemmed_tokens = [stemmer.stem(token) for token in tokens]\n",
    "        \n",
    "        # Lemmatization\n",
    "        lemmatized_tokens = [lemmatizer.lemmatize(token) for token in stemmed_tokens]\n",
    "        \n",
    "        # Join tokens back to string\n",
    "        return ' '.join(lemmatized_tokens)\n",
    "    except Exception as e:\n",
    "        print(f\"Error processing text: {text}\")\n",
    "        print(f\"Error: {e}\")\n",
    "        return \"\"\n",
    "\n",
    "df['processed_review'] = df['review'].apply(preprocess_text)\n",
    "\n",
    "vectorizer = TfidfVectorizer(max_features=5000)\n",
    "X = vectorizer.fit_transform(df['processed_review'])\n",
    "y = df['sentiment'].astype(int)  \n",
    "\n",
    "X_train, X_test, y_train, y_test = train_test_split(X, y, test_size=0.2, random_state=42)\n",
    "\n",
    "rf_classifier = RandomForestClassifier(n_estimators=100, random_state=42)\n",
    "rf_classifier.fit(X_train, y_train)\n",
    "\n",
    "y_pred = rf_classifier.predict(X_test)\n",
    "\n",
    "accuracy = accuracy_score(y_test, y_pred)\n",
    "precision = precision_score(y_test, y_pred)\n",
    "recall = recall_score(y_test, y_pred)\n",
    "f1 = f1_score(y_test, y_pred)\n",
    "\n",
    "print(\"\\nEvaluation Metrics:\")\n",
    "print(f\"Accuracy: {accuracy:.4f}\")\n",
    "print(f\"Precision: {precision:.4f}\")\n",
    "print(f\"Recall: {recall:.4f}\")\n",
    "print(f\"F1 Score: {f1:.4f}\")"
   ]
  }
 ],
 "metadata": {
  "kernelspec": {
   "display_name": "Python [conda env:base] *",
   "language": "python",
   "name": "conda-base-py"
  },
  "language_info": {
   "codemirror_mode": {
    "name": "ipython",
    "version": 3
   },
   "file_extension": ".py",
   "mimetype": "text/x-python",
   "name": "python",
   "nbconvert_exporter": "python",
   "pygments_lexer": "ipython3",
   "version": "3.12.7"
  }
 },
 "nbformat": 4,
 "nbformat_minor": 5
}
